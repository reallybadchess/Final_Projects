{
 "cells": [
  {
   "cell_type": "markdown",
   "metadata": {
    "dc": {
     "key": "3"
    },
    "deletable": false,
    "editable": false,
    "run_control": {
     "frozen": true
    },
    "tags": [
     "context"
    ]
   },
   "source": [
    "## 1. Analysis of costs to run animal shelters\n",
    "<p>You are working as a data analyst in the animal welfare department. In preparation for next year's budget, the head of your department would like to know the total cost to shelter animals, broken down by each animal type and size combination (i.e., 'small dogs', 'large dogs', etc.). You need to prepare a table that contains this information.</p>\n",
    "<p>The total cost to shelter an animal for the year is calculated as the sum of three factors: the size and animal type, the age, and the location.</p>\n",
    "<ul>\n",
    "<li>The base cost of sheltering an animal is based upon its size and type. The costs per animal type and size are contained in the <code>size_costs</code> table. The criteria for classifying size has recently been updated, and so you will need to categorize animals based upon the following table:</li>\n",
    "</ul>\n",
    "<table>\n",
    "<thead>\n",
    "<tr>\n",
    "<th style=\"text-align:right;\"></th>\n",
    "<th style=\"text-align:right;\">Small</th>\n",
    "<th>Medium</th>\n",
    "<th>Large</th>\n",
    "</tr>\n",
    "</thead>\n",
    "<tbody>\n",
    "<tr>\n",
    "<td style=\"text-align:right;\">Dog</td>\n",
    "<td style=\"text-align:right;\">&lt;= 10 lbs</td>\n",
    "<td>10 lbs &lt; and &lt;= 30 lbs</td>\n",
    "<td>30 lbs &lt;</td>\n",
    "</tr>\n",
    "<tr>\n",
    "<td style=\"text-align:right;\">Cat</td>\n",
    "<td style=\"text-align:right;\">&lt;= 5 lbs</td>\n",
    "<td>5 lbs &lt; and &lt;= 7 lbs</td>\n",
    "<td>7 lbs &lt;</td>\n",
    "</tr>\n",
    "<tr>\n",
    "<td style=\"text-align:right;\">Bird</td>\n",
    "<td style=\"text-align:right;\">&lt;= 0.7 lbs</td>\n",
    "<td>0.7 lbs &lt; and &lt;= 1.1 lbs</td>\n",
    "<td>1.1 lbs &lt;</td>\n",
    "</tr>\n",
    "</tbody>\n",
    "</table>\n",
    "<ul>\n",
    "<li>Older animals cost more, and so an age cost (contained in the <code>age_costs</code> table) is added. Each animal's age should be calculated as the age by the end of the year (December 31st, 2021).</li>\n",
    "<li>There is a location cost depending on where the animal is sheltered (contained in the <code>location_costs</code> table). </li>\n",
    "<li>The calculation should not include animals that have been sponsored by private charities (sponsored animals are listed in the <code>sponsored_animals</code> table).</li>\n",
    "</ul>\n",
    "<p>For future visualization purposes, you will also need to include a <code>percentage</code> column in your result. This percentage should reflect the fraction of the total cost to be allocated to each animal and size combination.</p>\n",
    "<p>The data you need is available in the tables shown in the database schema below.</p>\n",
    "<h5 id=\"databaseschema\">Database Schema</h5>\n",
    "<p><img src=\"https://assets.datacamp.com/production/repositories/5934/datasets/a946a159c0024ee0995f7a030f2c0cf802203835/diagram.PNG\" width=\"500\" height=\"500\"> </p>"
   ]
  },
  {
   "cell_type": "code",
   "execution_count": 76,
   "metadata": {
    "dc": {
     "key": "3"
    },
    "tags": [
     "sample_code"
    ]
   },
   "outputs": [
    {
     "data": {
      "text/plain": [
       "'Connected: @animal_shelters'"
      ]
     },
     "execution_count": 76,
     "metadata": {},
     "output_type": "execute_result"
    }
   ],
   "source": [
    "%%sql\n",
    "postgresql:///animal_shelters"
   ]
  },
  {
   "cell_type": "markdown",
   "metadata": {
    "dc": {
     "key": "3"
    }
   },
   "source": [
    "## We will first take a look at all of columns and their data types"
   ]
  },
  {
   "cell_type": "markdown",
   "metadata": {
    "dc": {
     "key": "3"
    }
   },
   "source": [
    "#### Table: animals"
   ]
  },
  {
   "cell_type": "code",
   "execution_count": 77,
   "metadata": {
    "dc": {
     "key": "3"
    }
   },
   "outputs": [
    {
     "name": "stdout",
     "output_type": "stream",
     "text": [
      " * postgresql:///animal_shelters\n",
      "6 rows affected.\n"
     ]
    },
    {
     "data": {
      "text/html": [
       "<table>\n",
       "    <thead>\n",
       "        <tr>\n",
       "            <th>column_name</th>\n",
       "            <th>data_type</th>\n",
       "        </tr>\n",
       "    </thead>\n",
       "    <tbody>\n",
       "        <tr>\n",
       "            <td>animalid</td>\n",
       "            <td>character varying</td>\n",
       "        </tr>\n",
       "        <tr>\n",
       "            <td>birthdate</td>\n",
       "            <td>character varying</td>\n",
       "        </tr>\n",
       "        <tr>\n",
       "            <td>animaltype</td>\n",
       "            <td>character varying</td>\n",
       "        </tr>\n",
       "        <tr>\n",
       "            <td>color</td>\n",
       "            <td>character varying</td>\n",
       "        </tr>\n",
       "        <tr>\n",
       "            <td>weight</td>\n",
       "            <td>numeric</td>\n",
       "        </tr>\n",
       "        <tr>\n",
       "            <td>location</td>\n",
       "            <td>character varying</td>\n",
       "        </tr>\n",
       "    </tbody>\n",
       "</table>"
      ],
      "text/plain": [
       "[('animalid', 'character varying'),\n",
       " ('birthdate', 'character varying'),\n",
       " ('animaltype', 'character varying'),\n",
       " ('color', 'character varying'),\n",
       " ('weight', 'numeric'),\n",
       " ('location', 'character varying')]"
      ]
     },
     "execution_count": 77,
     "metadata": {},
     "output_type": "execute_result"
    }
   ],
   "source": [
    "%%sql\n",
    "\n",
    "SELECT\n",
    "    column_name,\n",
    "    data_type\n",
    "FROM\n",
    "    INFORMATION_SCHEMA.COLUMNS\n",
    "WHERE\n",
    "    TABLE_NAME = 'animals'\n"
   ]
  },
  {
   "cell_type": "markdown",
   "metadata": {
    "dc": {
     "key": "3"
    }
   },
   "source": [
    "#### Table: sponsored_animals"
   ]
  },
  {
   "cell_type": "code",
   "execution_count": 78,
   "metadata": {
    "dc": {
     "key": "3"
    }
   },
   "outputs": [
    {
     "name": "stdout",
     "output_type": "stream",
     "text": [
      " * postgresql:///animal_shelters\n",
      "3 rows affected.\n"
     ]
    },
    {
     "data": {
      "text/html": [
       "<table>\n",
       "    <thead>\n",
       "        <tr>\n",
       "            <th>column_name</th>\n",
       "            <th>data_type</th>\n",
       "        </tr>\n",
       "    </thead>\n",
       "    <tbody>\n",
       "        <tr>\n",
       "            <td>sponsorid</td>\n",
       "            <td>character varying</td>\n",
       "        </tr>\n",
       "        <tr>\n",
       "            <td>animaltype</td>\n",
       "            <td>character varying</td>\n",
       "        </tr>\n",
       "        <tr>\n",
       "            <td>location</td>\n",
       "            <td>character varying</td>\n",
       "        </tr>\n",
       "    </tbody>\n",
       "</table>"
      ],
      "text/plain": [
       "[('sponsorid', 'character varying'),\n",
       " ('animaltype', 'character varying'),\n",
       " ('location', 'character varying')]"
      ]
     },
     "execution_count": 78,
     "metadata": {},
     "output_type": "execute_result"
    }
   ],
   "source": [
    "%%sql\n",
    "\n",
    "\n",
    "SELECT\n",
    "    column_name,\n",
    "    data_type\n",
    "FROM\n",
    "    INFORMATION_SCHEMA.COLUMNS\n",
    "WHERE\n",
    "    TABLE_NAME = 'sponsored_animals'"
   ]
  },
  {
   "cell_type": "markdown",
   "metadata": {
    "dc": {
     "key": "3"
    }
   },
   "source": [
    "#### Table: location_costs"
   ]
  },
  {
   "cell_type": "code",
   "execution_count": 79,
   "metadata": {
    "dc": {
     "key": "3"
    }
   },
   "outputs": [
    {
     "name": "stdout",
     "output_type": "stream",
     "text": [
      " * postgresql:///animal_shelters\n",
      "2 rows affected.\n"
     ]
    },
    {
     "data": {
      "text/html": [
       "<table>\n",
       "    <thead>\n",
       "        <tr>\n",
       "            <th>column_name</th>\n",
       "            <th>data_type</th>\n",
       "        </tr>\n",
       "    </thead>\n",
       "    <tbody>\n",
       "        <tr>\n",
       "            <td>location</td>\n",
       "            <td>character varying</td>\n",
       "        </tr>\n",
       "        <tr>\n",
       "            <td>costs</td>\n",
       "            <td>integer</td>\n",
       "        </tr>\n",
       "    </tbody>\n",
       "</table>"
      ],
      "text/plain": [
       "[('location', 'character varying'), ('costs', 'integer')]"
      ]
     },
     "execution_count": 79,
     "metadata": {},
     "output_type": "execute_result"
    }
   ],
   "source": [
    "%%sql\n",
    "\n",
    "\n",
    "SELECT\n",
    "    column_name,\n",
    "    data_type\n",
    "FROM\n",
    "    INFORMATION_SCHEMA.COLUMNS\n",
    "WHERE\n",
    "    TABLE_NAME = 'location_costs'"
   ]
  },
  {
   "cell_type": "markdown",
   "metadata": {
    "dc": {
     "key": "3"
    }
   },
   "source": [
    "#### Table: age_costs"
   ]
  },
  {
   "cell_type": "code",
   "execution_count": 80,
   "metadata": {
    "dc": {
     "key": "3"
    }
   },
   "outputs": [
    {
     "name": "stdout",
     "output_type": "stream",
     "text": [
      " * postgresql:///animal_shelters\n",
      "2 rows affected.\n"
     ]
    },
    {
     "data": {
      "text/html": [
       "<table>\n",
       "    <thead>\n",
       "        <tr>\n",
       "            <th>column_name</th>\n",
       "            <th>data_type</th>\n",
       "        </tr>\n",
       "    </thead>\n",
       "    <tbody>\n",
       "        <tr>\n",
       "            <td>age</td>\n",
       "            <td>character varying</td>\n",
       "        </tr>\n",
       "        <tr>\n",
       "            <td>costs</td>\n",
       "            <td>integer</td>\n",
       "        </tr>\n",
       "    </tbody>\n",
       "</table>"
      ],
      "text/plain": [
       "[('age', 'character varying'), ('costs', 'integer')]"
      ]
     },
     "execution_count": 80,
     "metadata": {},
     "output_type": "execute_result"
    }
   ],
   "source": [
    "%%sql\n",
    "\n",
    "\n",
    "SELECT\n",
    "    column_name,\n",
    "    data_type\n",
    "FROM\n",
    "    INFORMATION_SCHEMA.COLUMNS\n",
    "WHERE\n",
    "    TABLE_NAME = 'age_costs'"
   ]
  },
  {
   "cell_type": "markdown",
   "metadata": {
    "dc": {
     "key": "3"
    }
   },
   "source": [
    "#### Table: size_costs"
   ]
  },
  {
   "cell_type": "code",
   "execution_count": 81,
   "metadata": {
    "dc": {
     "key": "3"
    }
   },
   "outputs": [
    {
     "name": "stdout",
     "output_type": "stream",
     "text": [
      " * postgresql:///animal_shelters\n",
      "4 rows affected.\n"
     ]
    },
    {
     "data": {
      "text/html": [
       "<table>\n",
       "    <thead>\n",
       "        <tr>\n",
       "            <th>column_name</th>\n",
       "            <th>data_type</th>\n",
       "        </tr>\n",
       "    </thead>\n",
       "    <tbody>\n",
       "        <tr>\n",
       "            <td>sizeid</td>\n",
       "            <td>character varying</td>\n",
       "        </tr>\n",
       "        <tr>\n",
       "            <td>animaltype</td>\n",
       "            <td>character varying</td>\n",
       "        </tr>\n",
       "        <tr>\n",
       "            <td>size</td>\n",
       "            <td>character varying</td>\n",
       "        </tr>\n",
       "        <tr>\n",
       "            <td>costs</td>\n",
       "            <td>integer</td>\n",
       "        </tr>\n",
       "    </tbody>\n",
       "</table>"
      ],
      "text/plain": [
       "[('sizeid', 'character varying'),\n",
       " ('animaltype', 'character varying'),\n",
       " ('size', 'character varying'),\n",
       " ('costs', 'integer')]"
      ]
     },
     "execution_count": 81,
     "metadata": {},
     "output_type": "execute_result"
    }
   ],
   "source": [
    "%%sql\n",
    "\n",
    "\n",
    "SELECT\n",
    "    column_name,\n",
    "    data_type\n",
    "FROM\n",
    "    INFORMATION_SCHEMA.COLUMNS\n",
    "WHERE\n",
    "    TABLE_NAME = 'size_costs'"
   ]
  },
  {
   "cell_type": "markdown",
   "metadata": {
    "dc": {
     "key": "3"
    }
   },
   "source": [
    "# The base cost of sheltering an animal is based upon its size and type. The costs per animal type and size are contained in the size_costs table. The criteria for classifying size has recently been updated, and so you will need to categorize animals based upon the following table:\n",
    " \n",
    "\t           Small \t         Medium \t        Large\n",
    "    Dog \t<= 10 lbs \t10 lbs < and <= 30 lbs \t30 lbs <\n",
    "    Cat \t<= 5 lbs \t5 lbs < and <= 7 lbs \t7 lbs <\n",
    "    Bird \t<= 0.7 lbs \t0.7 lbs < and <= 1.1 lbs \t1.1 lbs <\n",
    "\n"
   ]
  },
  {
   "cell_type": "markdown",
   "metadata": {
    "dc": {
     "key": "3"
    }
   },
   "source": [
    "### Create bins per the new size classifications"
   ]
  },
  {
   "cell_type": "code",
   "execution_count": 82,
   "metadata": {
    "dc": {
     "key": "3"
    }
   },
   "outputs": [
    {
     "name": "stdout",
     "output_type": "stream",
     "text": [
      " * postgresql:///animal_shelters\n",
      "5 rows affected.\n"
     ]
    },
    {
     "data": {
      "text/html": [
       "<table>\n",
       "    <thead>\n",
       "        <tr>\n",
       "            <th>animaltype</th>\n",
       "            <th>weight</th>\n",
       "            <th>location</th>\n",
       "            <th>size</th>\n",
       "        </tr>\n",
       "    </thead>\n",
       "    <tbody>\n",
       "        <tr>\n",
       "            <td>Cat</td>\n",
       "            <td>4.0</td>\n",
       "            <td>Fort Worth</td>\n",
       "            <td>Small</td>\n",
       "        </tr>\n",
       "        <tr>\n",
       "            <td>Cat</td>\n",
       "            <td>7.0</td>\n",
       "            <td>Houston</td>\n",
       "            <td>Medium</td>\n",
       "        </tr>\n",
       "        <tr>\n",
       "            <td>Dog</td>\n",
       "            <td>45.0</td>\n",
       "            <td>Austin</td>\n",
       "            <td>Large</td>\n",
       "        </tr>\n",
       "        <tr>\n",
       "            <td>Cat</td>\n",
       "            <td>3.0</td>\n",
       "            <td>Houston</td>\n",
       "            <td>Small</td>\n",
       "        </tr>\n",
       "        <tr>\n",
       "            <td>Cat</td>\n",
       "            <td>9.0</td>\n",
       "            <td>Houston</td>\n",
       "            <td>Large</td>\n",
       "        </tr>\n",
       "    </tbody>\n",
       "</table>"
      ],
      "text/plain": [
       "[('Cat', Decimal('4.0'), 'Fort Worth', 'Small'),\n",
       " ('Cat', Decimal('7.0'), 'Houston', 'Medium'),\n",
       " ('Dog', Decimal('45.0'), 'Austin', 'Large'),\n",
       " ('Cat', Decimal('3.0'), 'Houston', 'Small'),\n",
       " ('Cat', Decimal('9.0'), 'Houston', 'Large')]"
      ]
     },
     "execution_count": 82,
     "metadata": {},
     "output_type": "execute_result"
    }
   ],
   "source": [
    "%%sql\n",
    "\n",
    "-- We use CASE to classify the animals\n",
    "\n",
    "SELECT\n",
    "animaltype,\n",
    "weight,\n",
    "location,\n",
    "CASE\n",
    "    WHEN animaltype = 'Bird' AND weight <= 0.7     \n",
    "        OR animaltype = 'Cat' AND weight <= 5 \n",
    "        OR animaltype = 'Dog' AND weight <= 10 THEN 'Small'\n",
    "    WHEN animaltype = 'Bird' AND weight > 1.1 \n",
    "        OR animaltype = 'Cat' AND weight > 7 \n",
    "        OR animaltype = 'Dog' AND weight > 30 THEN 'Large'\n",
    "    ELSE 'Medium'\n",
    "END AS size\n",
    "FROM animals\n",
    "LIMIT 5;"
   ]
  },
  {
   "cell_type": "markdown",
   "metadata": {
    "dc": {
     "key": "3"
    }
   },
   "source": [
    "# 2. Older animals cost more, and so an age cost (contained in the age_costs table) is added. Each animal's age should be calculated as the age by the end of the year (December 31st, 2021)."
   ]
  },
  {
   "cell_type": "markdown",
   "metadata": {
    "dc": {
     "key": "3"
    }
   },
   "source": [
    "### Create an age column"
   ]
  },
  {
   "cell_type": "code",
   "execution_count": 83,
   "metadata": {
    "dc": {
     "key": "3"
    }
   },
   "outputs": [
    {
     "name": "stdout",
     "output_type": "stream",
     "text": [
      " * postgresql:///animal_shelters\n",
      "5 rows affected.\n"
     ]
    },
    {
     "data": {
      "text/html": [
       "<table>\n",
       "    <thead>\n",
       "        <tr>\n",
       "            <th>animaltype</th>\n",
       "            <th>weight</th>\n",
       "            <th>location</th>\n",
       "            <th>age</th>\n",
       "        </tr>\n",
       "    </thead>\n",
       "    <tbody>\n",
       "        <tr>\n",
       "            <td>Cat</td>\n",
       "            <td>4.0</td>\n",
       "            <td>Fort Worth</td>\n",
       "            <td>2.0</td>\n",
       "        </tr>\n",
       "        <tr>\n",
       "            <td>Cat</td>\n",
       "            <td>7.0</td>\n",
       "            <td>Houston</td>\n",
       "            <td>9.0</td>\n",
       "        </tr>\n",
       "        <tr>\n",
       "            <td>Dog</td>\n",
       "            <td>45.0</td>\n",
       "            <td>Austin</td>\n",
       "            <td>8.0</td>\n",
       "        </tr>\n",
       "        <tr>\n",
       "            <td>Cat</td>\n",
       "            <td>3.0</td>\n",
       "            <td>Houston</td>\n",
       "            <td>6.0</td>\n",
       "        </tr>\n",
       "        <tr>\n",
       "            <td>Cat</td>\n",
       "            <td>9.0</td>\n",
       "            <td>Houston</td>\n",
       "            <td>7.0</td>\n",
       "        </tr>\n",
       "    </tbody>\n",
       "</table>"
      ],
      "text/plain": [
       "[('Cat', Decimal('4.0'), 'Fort Worth', 2.0),\n",
       " ('Cat', Decimal('7.0'), 'Houston', 9.0),\n",
       " ('Dog', Decimal('45.0'), 'Austin', 8.0),\n",
       " ('Cat', Decimal('3.0'), 'Houston', 6.0),\n",
       " ('Cat', Decimal('9.0'), 'Houston', 7.0)]"
      ]
     },
     "execution_count": 83,
     "metadata": {},
     "output_type": "execute_result"
    }
   ],
   "source": [
    "%%sql\n",
    "\n",
    "SELECT\n",
    "    animaltype,\n",
    "    weight,\n",
    "    location,\n",
    "    2021 - EXTRACT(YEAR FROM CAST(birthdate AS DATE)) as age\n",
    "FROM animals\n",
    "LIMIT 5;"
   ]
  },
  {
   "cell_type": "markdown",
   "metadata": {
    "collapsed": true,
    "dc": {
     "key": "3"
    }
   },
   "source": [
    "# 3. There is a location cost depending on where the animal is sheltered (contained in the location_costs table)."
   ]
  },
  {
   "cell_type": "markdown",
   "metadata": {
    "collapsed": true,
    "dc": {
     "key": "3"
    }
   },
   "source": [
    "There is no need to change anything here. The animals table already contains a location column. This\n",
    "column can be used later for joining if needed."
   ]
  },
  {
   "cell_type": "markdown",
   "metadata": {
    "collapsed": true,
    "dc": {
     "key": "3"
    }
   },
   "source": [
    "# 4. The calculation should not include animals that have been sponsored by private charities (sponsored animals are listed in the sponsored_animals table)."
   ]
  },
  {
   "cell_type": "markdown",
   "metadata": {
    "dc": {
     "key": "3"
    }
   },
   "source": [
    "### Next we can find the animals that do not have sponsors"
   ]
  },
  {
   "cell_type": "code",
   "execution_count": 84,
   "metadata": {
    "dc": {
     "key": "3"
    }
   },
   "outputs": [
    {
     "name": "stdout",
     "output_type": "stream",
     "text": [
      " * postgresql:///animal_shelters\n",
      "5 rows affected.\n"
     ]
    },
    {
     "data": {
      "text/html": [
       "<table>\n",
       "    <thead>\n",
       "        <tr>\n",
       "            <th>animaltype</th>\n",
       "            <th>weight</th>\n",
       "            <th>location</th>\n",
       "        </tr>\n",
       "    </thead>\n",
       "    <tbody>\n",
       "        <tr>\n",
       "            <td>Cat</td>\n",
       "            <td>7.0</td>\n",
       "            <td>Houston</td>\n",
       "        </tr>\n",
       "        <tr>\n",
       "            <td>Dog</td>\n",
       "            <td>45.0</td>\n",
       "            <td>Austin</td>\n",
       "        </tr>\n",
       "        <tr>\n",
       "            <td>Cat</td>\n",
       "            <td>9.0</td>\n",
       "            <td>Houston</td>\n",
       "        </tr>\n",
       "        <tr>\n",
       "            <td>Dog</td>\n",
       "            <td>39.0</td>\n",
       "            <td>Austin</td>\n",
       "        </tr>\n",
       "        <tr>\n",
       "            <td>Dog</td>\n",
       "            <td>3.0</td>\n",
       "            <td>Fort Worth</td>\n",
       "        </tr>\n",
       "    </tbody>\n",
       "</table>"
      ],
      "text/plain": [
       "[('Cat', Decimal('7.0'), 'Houston'),\n",
       " ('Dog', Decimal('45.0'), 'Austin'),\n",
       " ('Cat', Decimal('9.0'), 'Houston'),\n",
       " ('Dog', Decimal('39.0'), 'Austin'),\n",
       " ('Dog', Decimal('3.0'), 'Fort Worth')]"
      ]
     },
     "execution_count": 84,
     "metadata": {},
     "output_type": "execute_result"
    }
   ],
   "source": [
    "%%sql\n",
    "\n",
    "\n",
    "SELECT\n",
    "    animaltype,\n",
    "    weight,\n",
    "    location\n",
    "FROM animals\n",
    "WHERE animalid NOT IN (SELECT sponsorid\n",
    "                      FROM sponsored_animals\n",
    "                      )\n",
    "LIMIT 5;"
   ]
  },
  {
   "cell_type": "markdown",
   "metadata": {
    "collapsed": true,
    "dc": {
     "key": "3"
    }
   },
   "source": [
    "Great! Now that we have figured out how to select everything we need for te final table, we can start be creating a new table containg all the queries that were just created!"
   ]
  },
  {
   "cell_type": "markdown",
   "metadata": {
    "dc": {
     "key": "3"
    }
   },
   "source": [
    "# Creating new table"
   ]
  },
  {
   "cell_type": "code",
   "execution_count": 85,
   "metadata": {
    "dc": {
     "key": "3"
    }
   },
   "outputs": [
    {
     "name": "stdout",
     "output_type": "stream",
     "text": [
      " * postgresql:///animal_shelters\n",
      "(psycopg2.errors.DuplicateTable) relation \"animals_updated\" already exists\n",
      "\n",
      "[SQL: CREATE TABLE animals_updated AS\n",
      "\n",
      "SELECT \n",
      "    animaltype,\n",
      "    weight,\n",
      "    location,\n",
      "    -- Enter the age query here.\n",
      "    2021 - EXTRACT(YEAR FROM CAST(birthdate AS DATE)) as age,\n",
      "    -- Enter the case query here.\n",
      "       CASE\n",
      "    WHEN animaltype = 'Bird' AND weight <= 0.7     \n",
      "        OR animaltype = 'Cat' AND weight <= 5 \n",
      "        OR animaltype = 'Dog' AND weight <= 10 THEN 'Small'\n",
      "    WHEN animaltype = 'Bird' AND weight > 1.1 \n",
      "        OR animaltype = 'Cat' AND weight > 7 \n",
      "        OR animaltype = 'Dog' AND weight > 30 THEN 'Large'\n",
      "    ELSE 'Medium'\n",
      "    END AS size\n",
      "FROM animals\n",
      "-- Now we filter by the animals not sponsored\n",
      "WHERE \n",
      "    animalid NOT IN (SELECT \n",
      "                        sponsorid\n",
      "                    FROM sponsored_animals);]\n",
      "(Background on this error at: http://sqlalche.me/e/14/f405)\n"
     ]
    }
   ],
   "source": [
    "%%sql\n",
    "\n",
    "CREATE TABLE animals_updated AS\n",
    "\n",
    "SELECT \n",
    "    animaltype,\n",
    "    weight,\n",
    "    location,\n",
    "    -- Enter the age query here.\n",
    "    2021 - EXTRACT(YEAR FROM CAST(birthdate AS DATE)) as age,\n",
    "    -- Enter the case query here.\n",
    "       CASE\n",
    "    WHEN animaltype = 'Bird' AND weight <= 0.7     \n",
    "        OR animaltype = 'Cat' AND weight <= 5 \n",
    "        OR animaltype = 'Dog' AND weight <= 10 THEN 'Small'\n",
    "    WHEN animaltype = 'Bird' AND weight > 1.1 \n",
    "        OR animaltype = 'Cat' AND weight > 7 \n",
    "        OR animaltype = 'Dog' AND weight > 30 THEN 'Large'\n",
    "    ELSE 'Medium'\n",
    "    END AS size\n",
    "FROM animals\n",
    "-- Now we filter by the animals not sponsored\n",
    "WHERE \n",
    "    animalid NOT IN (SELECT \n",
    "                        sponsorid\n",
    "                    FROM sponsored_animals);\n"
   ]
  },
  {
   "cell_type": "markdown",
   "metadata": {
    "dc": {
     "key": "3"
    }
   },
   "source": [
    "### Now we can check to make sure the table exists "
   ]
  },
  {
   "cell_type": "code",
   "execution_count": 86,
   "metadata": {
    "dc": {
     "key": "3"
    }
   },
   "outputs": [
    {
     "name": "stdout",
     "output_type": "stream",
     "text": [
      " * postgresql:///animal_shelters\n",
      "10 rows affected.\n"
     ]
    },
    {
     "data": {
      "text/html": [
       "<table>\n",
       "    <thead>\n",
       "        <tr>\n",
       "            <th>animaltype</th>\n",
       "            <th>weight</th>\n",
       "            <th>location</th>\n",
       "            <th>age</th>\n",
       "            <th>size</th>\n",
       "        </tr>\n",
       "    </thead>\n",
       "    <tbody>\n",
       "        <tr>\n",
       "            <td>Cat</td>\n",
       "            <td>7.0</td>\n",
       "            <td>Houston</td>\n",
       "            <td>9</td>\n",
       "            <td>Medium</td>\n",
       "        </tr>\n",
       "        <tr>\n",
       "            <td>Dog</td>\n",
       "            <td>45.0</td>\n",
       "            <td>Austin</td>\n",
       "            <td>8</td>\n",
       "            <td>Large</td>\n",
       "        </tr>\n",
       "        <tr>\n",
       "            <td>Cat</td>\n",
       "            <td>9.0</td>\n",
       "            <td>Houston</td>\n",
       "            <td>7</td>\n",
       "            <td>Large</td>\n",
       "        </tr>\n",
       "        <tr>\n",
       "            <td>Dog</td>\n",
       "            <td>39.0</td>\n",
       "            <td>Austin</td>\n",
       "            <td>4</td>\n",
       "            <td>Large</td>\n",
       "        </tr>\n",
       "        <tr>\n",
       "            <td>Dog</td>\n",
       "            <td>3.0</td>\n",
       "            <td>Fort Worth</td>\n",
       "            <td>5</td>\n",
       "            <td>Small</td>\n",
       "        </tr>\n",
       "        <tr>\n",
       "            <td>Dog</td>\n",
       "            <td>24.0</td>\n",
       "            <td>Fort Worth</td>\n",
       "            <td>3</td>\n",
       "            <td>Medium</td>\n",
       "        </tr>\n",
       "        <tr>\n",
       "            <td>Dog</td>\n",
       "            <td>16.0</td>\n",
       "            <td>Austin</td>\n",
       "            <td>4</td>\n",
       "            <td>Medium</td>\n",
       "        </tr>\n",
       "        <tr>\n",
       "            <td>Dog</td>\n",
       "            <td>13.0</td>\n",
       "            <td>Houston</td>\n",
       "            <td>8</td>\n",
       "            <td>Medium</td>\n",
       "        </tr>\n",
       "        <tr>\n",
       "            <td>Cat</td>\n",
       "            <td>9.0</td>\n",
       "            <td>Houston</td>\n",
       "            <td>4</td>\n",
       "            <td>Large</td>\n",
       "        </tr>\n",
       "        <tr>\n",
       "            <td>Cat</td>\n",
       "            <td>2.0</td>\n",
       "            <td>Austin</td>\n",
       "            <td>1</td>\n",
       "            <td>Small</td>\n",
       "        </tr>\n",
       "    </tbody>\n",
       "</table>"
      ],
      "text/plain": [
       "[('Cat', Decimal('7.0'), 'Houston', '9', 'Medium'),\n",
       " ('Dog', Decimal('45.0'), 'Austin', '8', 'Large'),\n",
       " ('Cat', Decimal('9.0'), 'Houston', '7', 'Large'),\n",
       " ('Dog', Decimal('39.0'), 'Austin', '4', 'Large'),\n",
       " ('Dog', Decimal('3.0'), 'Fort Worth', '5', 'Small'),\n",
       " ('Dog', Decimal('24.0'), 'Fort Worth', '3', 'Medium'),\n",
       " ('Dog', Decimal('16.0'), 'Austin', '4', 'Medium'),\n",
       " ('Dog', Decimal('13.0'), 'Houston', '8', 'Medium'),\n",
       " ('Cat', Decimal('9.0'), 'Houston', '4', 'Large'),\n",
       " ('Cat', Decimal('2.0'), 'Austin', '1', 'Small')]"
      ]
     },
     "execution_count": 86,
     "metadata": {},
     "output_type": "execute_result"
    }
   ],
   "source": [
    "%%sql\n",
    "\n",
    "SELECT \n",
    "    *\n",
    "FROM animals_updated\n",
    "LIMIT 10;"
   ]
  },
  {
   "cell_type": "markdown",
   "metadata": {
    "dc": {
     "key": "3"
    }
   },
   "source": [
    "Beautiful! The table creation was a success and we now have the relevant columns in one table. Next, we can join the cost tables to find out the actual costs of each animal and make this altogether another table."
   ]
  },
  {
   "cell_type": "markdown",
   "metadata": {
    "dc": {
     "key": "3"
    }
   },
   "source": [
    "# Joining the new table with the cost tables"
   ]
  },
  {
   "cell_type": "code",
   "execution_count": 87,
   "metadata": {
    "dc": {
     "key": "3"
    },
    "scrolled": false
   },
   "outputs": [
    {
     "ename": "SyntaxError",
     "evalue": "invalid syntax (<ipython-input-87-af82107ab99c>, line 1)",
     "output_type": "error",
     "traceback": [
      "  File \"<ipython-input-87-af82107ab99c>\", line 1\n    CREATE TABLE animal_costs AS\n               ^\nSyntaxError: invalid syntax\n"
     ]
    }
   ],
   "source": [
    "\n",
    "\n",
    "CREATE TABLE animal_costs AS\n",
    "SELECT\n",
    "    au.animaltype,\n",
    "    ac.age,\n",
    "    lc.location,\n",
    "    sc.size,\n",
    "    lc.costs size_cost,\n",
    "    ac.costs ag_cost,\n",
    "    sc.cost size_cost\n",
    "    -- We need to add a total cost column\n",
    "    sc.costs + ac.costs + lc.costs AS total\n",
    "FROM animals_updated au\n",
    "JOIN age_costs ac\n",
    "USING (age)\n",
    "JOIN location_costs lc\n",
    "USING (location)\n",
    "JOIN size_costs sc\n",
    "ON\n",
    "    au.size = sc.size\n",
    "    AND\n",
    "    au.animaltype = sc.animaltype;"
   ]
  },
  {
   "cell_type": "markdown",
   "metadata": {
    "dc": {
     "key": "3"
    }
   },
   "source": [
    "The query is throwing the error:\n",
    "    JOIN/USING types double precision and character varying cannot be matched\n",
    "    \n",
    "Checking the data types in the animals_updated table"
   ]
  },
  {
   "cell_type": "code",
   "execution_count": null,
   "metadata": {
    "dc": {
     "key": "3"
    }
   },
   "outputs": [],
   "source": [
    "%%sql\n",
    "\n",
    "SELECT\n",
    "    column_name,\n",
    "    data_type\n",
    "FROM\n",
    "    INFORMATION_SCHEMA.COLUMNS\n",
    "WHERE\n",
    "    TABLE_NAME = 'animals_updated'"
   ]
  },
  {
   "cell_type": "markdown",
   "metadata": {
    "dc": {
     "key": "3"
    }
   },
   "source": [
    "This table has the age data_type as double precision. This needs to be changed to varchar to match the age \n",
    "data type in the age_costs table."
   ]
  },
  {
   "cell_type": "code",
   "execution_count": null,
   "metadata": {
    "dc": {
     "key": "3"
    }
   },
   "outputs": [],
   "source": [
    "%%sql\n",
    "ALTER TABLE animals_updated\n",
    "ALTER COLUMN age TYPE VARCHAR(50);"
   ]
  },
  {
   "cell_type": "markdown",
   "metadata": {
    "dc": {
     "key": "3"
    }
   },
   "source": [
    "# Attempting to create new table once again"
   ]
  },
  {
   "cell_type": "code",
   "execution_count": null,
   "metadata": {
    "dc": {
     "key": "3"
    }
   },
   "outputs": [],
   "source": [
    "%%sql\n",
    "\n",
    "CREATE TABLE animal_costs AS\n",
    "SELECT\n",
    "    au.animaltype,\n",
    "    ac.age,\n",
    "    lc.location,\n",
    "    sc.size,\n",
    "    lc.costs location_cost,\n",
    "    ac.costs ag_cost,\n",
    "    sc.costs size_cost,\n",
    "    -- We need to add a total cost column\n",
    "    sc.costs + ac.costs + lc.costs AS total\n",
    "FROM animals_updated au\n",
    "JOIN age_costs ac\n",
    "USING (age)\n",
    "JOIN location_costs lc\n",
    "USING (location)\n",
    "JOIN size_costs sc\n",
    "ON\n",
    "    au.size = sc.size\n",
    "    AND\n",
    "    au.animaltype = sc.animaltype;"
   ]
  },
  {
   "cell_type": "markdown",
   "metadata": {
    "dc": {
     "key": "3"
    }
   },
   "source": [
    "### Inspecting the new table"
   ]
  },
  {
   "cell_type": "code",
   "execution_count": null,
   "metadata": {
    "dc": {
     "key": "3"
    }
   },
   "outputs": [],
   "source": [
    "%%sql\n",
    "\n",
    "SELECT \n",
    "    *\n",
    "FROM animal_costs\n",
    "LIMIT 10;"
   ]
  },
  {
   "cell_type": "markdown",
   "metadata": {
    "dc": {
     "key": "3"
    }
   },
   "source": [
    "This is looking wonderful! Only the final step left."
   ]
  },
  {
   "cell_type": "markdown",
   "metadata": {
    "dc": {
     "key": "3"
    }
   },
   "source": [
    "# Creating the final table"
   ]
  },
  {
   "cell_type": "markdown",
   "metadata": {
    "dc": {
     "key": "3"
    }
   },
   "source": [
    "### You are working as a data analyst in the animal welfare department. In preparation for next year's budget, the head of your department would like to know the total cost to shelter animals, broken down by each animal type and size combination (i.e., 'small dogs', 'large dogs', etc.). You need to prepare a table that contains this information.  \n",
    "Order your query by animal type in alphabetical order, and then size (in order from small to large). Percentage should be expressed as a number rounded to two decimal places (e.g. 50.25% becomes 50.25)."
   ]
  },
  {
   "cell_type": "code",
   "execution_count": null,
   "metadata": {
    "dc": {
     "key": "3"
    }
   },
   "outputs": [],
   "source": [
    "%%sql\n",
    "SELECT\n",
    "    animaltype,\n",
    "    size,\n",
    "    SUM(total) AS total,\n",
    "    ROUND(SUM(total)*100/ (SELECT SUM(total) FROM animal_costs),2) AS percentage\n",
    "FROM animal_costs\n",
    "GROUP BY\n",
    "    size,\n",
    "    animaltype\n",
    "ORDER BY\n",
    "    animaltype,\n",
    "    size DESC;"
   ]
  },
  {
   "cell_type": "code",
   "execution_count": null,
   "metadata": {
    "collapsed": true,
    "dc": {
     "key": "3"
    }
   },
   "outputs": [],
   "source": []
  },
  {
   "cell_type": "code",
   "execution_count": null,
   "metadata": {
    "collapsed": true,
    "dc": {
     "key": "3"
    }
   },
   "outputs": [],
   "source": []
  }
 ],
 "metadata": {
  "kernelspec": {
   "display_name": "Python 3",
   "language": "python",
   "name": "python3"
  },
  "language_info": {
   "codemirror_mode": {
    "name": "ipython",
    "version": 3
   },
   "file_extension": ".py",
   "mimetype": "text/x-python",
   "name": "python",
   "nbconvert_exporter": "python",
   "pygments_lexer": "ipython3",
   "version": "3.8.5"
  }
 },
 "nbformat": 4,
 "nbformat_minor": 2
}
